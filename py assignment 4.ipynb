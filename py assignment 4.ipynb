{
 "cells": [
  {
   "cell_type": "code",
   "execution_count": 1,
   "id": "ebfe1f89-f791-446f-a8fc-2883b90e0422",
   "metadata": {},
   "outputs": [],
   "source": [
    "#basic if-else statements"
   ]
  },
  {
   "cell_type": "code",
   "execution_count": 2,
   "id": "9b7a8a22-9393-4dba-86c8-1dfe3f28368f",
   "metadata": {},
   "outputs": [
    {
     "name": "stdin",
     "output_type": "stream",
     "text": [
      "enter a number -19\n"
     ]
    },
    {
     "name": "stdout",
     "output_type": "stream",
     "text": [
      "-19 is negative number\n"
     ]
    }
   ],
   "source": [
    "#1\n",
    "n = int(input(\"enter a number\"))\n",
    "if n<0:\n",
    "    print(f\"{n} is negative number\")\n",
    "else:\n",
    "    print(f\"{n} is positive number\")"
   ]
  },
  {
   "cell_type": "code",
   "execution_count": 3,
   "id": "1e3df80f-de18-4a24-adb4-398046303a76",
   "metadata": {},
   "outputs": [
    {
     "name": "stdin",
     "output_type": "stream",
     "text": [
      "enter age 18\n"
     ]
    },
    {
     "name": "stdout",
     "output_type": "stream",
     "text": [
      "person is eligible to vote\n"
     ]
    }
   ],
   "source": [
    "#2\n",
    "age = int(input(\"enter age\"))\n",
    "if age >= 18:\n",
    "    print(\"person is eligible to vote\")\n",
    "else:\n",
    "    print(\"person  is not eligible\")"
   ]
  },
  {
   "cell_type": "code",
   "execution_count": 5,
   "id": "a7aca221-0a94-4880-874e-1fc11d24fab7",
   "metadata": {},
   "outputs": [
    {
     "name": "stdin",
     "output_type": "stream",
     "text": [
      "enter first number 3\n",
      "enter second number 1\n"
     ]
    },
    {
     "name": "stdout",
     "output_type": "stream",
     "text": [
      "3 is greater than the 1\n"
     ]
    }
   ],
   "source": [
    "#3\n",
    "n1 = int(input(\"enter first number\"))\n",
    "n2 = int(input(\"enter second number\"))\n",
    "if n1 > n2:\n",
    "    print(f\"{n1} is greater than the {n2}\")\n",
    "else:\n",
    "        print(f\"{n2} is greater than the {n1}\")"
   ]
  },
  {
   "cell_type": "code",
   "execution_count": 6,
   "id": "5a43f779-e1a7-45f6-b232-a7e3e67036d9",
   "metadata": {},
   "outputs": [
    {
     "name": "stdin",
     "output_type": "stream",
     "text": [
      "Enter a year:  2016\n"
     ]
    },
    {
     "name": "stdout",
     "output_type": "stream",
     "text": [
      "2016 is a leap year.\n"
     ]
    }
   ],
   "source": [
    "#4\n",
    "year = int(input(\"Enter a year: \"))\n",
    "\n",
    "if (year % 4 == 0 and year % 100 != 0) or (year % 400 == 0):\n",
    "    print(year, \"is a leap year.\")\n",
    "else:\n",
    "    print(year, \"is not a leap year.\")"
   ]
  },
  {
   "cell_type": "code",
   "execution_count": 14,
   "id": "3c6c63c0-9542-478a-b995-455467842610",
   "metadata": {},
   "outputs": [
    {
     "name": "stdin",
     "output_type": "stream",
     "text": [
      "enter an alphabet s\n"
     ]
    },
    {
     "name": "stdout",
     "output_type": "stream",
     "text": [
      "s is a consonent\n"
     ]
    }
   ],
   "source": [
    "#5\n",
    "s = input(\"enter an alphabet\")\n",
    "vowel = \"aAeEiIoOuU\"\n",
    "if len(s) == 1:\n",
    "    if s in vowel:\n",
    "        print(f\"{s} is a vowel\")\n",
    "    else:\n",
    "        print(f\"{s} is a consonent\")\n",
    "else:\n",
    "    print(\"enter valid input\")"
   ]
  },
  {
   "cell_type": "code",
   "execution_count": 15,
   "id": "47942891-bf8e-4065-8ede-603968bc3693",
   "metadata": {},
   "outputs": [
    {
     "name": "stdin",
     "output_type": "stream",
     "text": [
      "enter a number 20165\n"
     ]
    },
    {
     "name": "stdout",
     "output_type": "stream",
     "text": [
      "20165 is odd\n"
     ]
    }
   ],
   "source": [
    "#6\n",
    "n = int(input(\"enter a number\"))\n",
    "if n%2 == 0:\n",
    "    print(f\"{n} is even\")\n",
    "else:\n",
    "    print(f\"{n} is odd\")"
   ]
  },
  {
   "cell_type": "code",
   "execution_count": 17,
   "id": "135be280-2fb0-4cf1-9c82-f6651d76303c",
   "metadata": {},
   "outputs": [
    {
     "name": "stdin",
     "output_type": "stream",
     "text": [
      "Enter a number:  -42.23\n"
     ]
    },
    {
     "name": "stdout",
     "output_type": "stream",
     "text": [
      "The absolute value of -42.23 is 42.23\n"
     ]
    }
   ],
   "source": [
    "#7\n",
    "def absolute_value(num):\n",
    "    if num < 0:\n",
    "        return -num\n",
    "    else:\n",
    "        return num\n",
    "\n",
    "number = float(input(\"Enter a number: \"))\n",
    "result = absolute_value(number)\n",
    "print(f\"The absolute value of {number} is {result}\")\n"
   ]
  },
  {
   "cell_type": "code",
   "execution_count": 2,
   "id": "14fc66fd-d890-4bc0-8022-c7e7329792e4",
   "metadata": {},
   "outputs": [
    {
     "name": "stdin",
     "output_type": "stream",
     "text": [
      "enter first number 79\n",
      "enter second number 87\n",
      "enter third number 77\n"
     ]
    },
    {
     "name": "stdout",
     "output_type": "stream",
     "text": [
      "87 is the largest among three number\n"
     ]
    }
   ],
   "source": [
    "#8\n",
    "n1 = int(input(\"enter first number\"))\n",
    "n2 = int(input(\"enter second number\"))\n",
    "n3 = int(input(\"enter third number\"))\n",
    "\n",
    "if n1 > n2 and n1 > n3:\n",
    "    print(f\"{n1} is the largest among three number\")\n",
    "elif n2 > n1 and n2 > n3:\n",
    "    print(f\"{n2} is the largest among three number\")\n",
    "else:\n",
    "    print(f\"{n3} is the largest among three number\")"
   ]
  },
  {
   "cell_type": "code",
   "execution_count": 3,
   "id": "345836ee-628e-43b1-8624-10b2cc6ac793",
   "metadata": {},
   "outputs": [
    {
     "name": "stdin",
     "output_type": "stream",
     "text": [
      "Enter a string:  a989a\n"
     ]
    },
    {
     "name": "stdout",
     "output_type": "stream",
     "text": [
      "a989a is a palindrome.\n"
     ]
    }
   ],
   "source": [
    "#9\n",
    "def is_palindrome(input_string):\n",
    "    cleaned_string = input_string.replace(\" \", \"\").lower()\n",
    "    \n",
    "    return cleaned_string == cleaned_string[::-1]\n",
    "\n",
    "input_string = input(\"Enter a string: \")\n",
    "\n",
    "if is_palindrome(input_string):\n",
    "    print(input_string, \"is a palindrome.\")\n",
    "else:\n",
    "    print(input_string, \"is not a palindrome.\")\n"
   ]
  },
  {
   "cell_type": "code",
   "execution_count": 5,
   "id": "fb5bdaba-18cd-4d59-ab67-11dae7527641",
   "metadata": {},
   "outputs": [
    {
     "name": "stdin",
     "output_type": "stream",
     "text": [
      "enter marks 79\n"
     ]
    },
    {
     "name": "stdout",
     "output_type": "stream",
     "text": [
      "C Grade\n"
     ]
    }
   ],
   "source": [
    "#10\n",
    "score = int(input(\"enter marks\"))\n",
    "if 0 <= score <= 100:\n",
    "    if score > 90:\n",
    "        print(\"A Grade\")\n",
    "    elif 80 < score <= 90:\n",
    "        print(\"B Grade\")\n",
    "    elif 70 < score <= 80:\n",
    "        print(\"C Grade\")\n",
    "    else:\n",
    "        print(\"D Grade\")\n",
    "else:\n",
    "    print(\"enter marks between 0 and 100\")"
   ]
  },
  {
   "cell_type": "code",
   "execution_count": 1,
   "id": "c858bde3-5561-4231-b4bf-e8902f26fac0",
   "metadata": {},
   "outputs": [],
   "source": [
    "#nested if-else statements"
   ]
  },
  {
   "cell_type": "code",
   "execution_count": 10,
   "id": "32e2602f-25e4-499c-b209-e765e5259a89",
   "metadata": {},
   "outputs": [
    {
     "name": "stdin",
     "output_type": "stream",
     "text": [
      "enter first number 3\n",
      "enter second number 7\n",
      "enter third number 9\n"
     ]
    },
    {
     "name": "stdout",
     "output_type": "stream",
     "text": [
      "9 is greatest\n"
     ]
    }
   ],
   "source": [
    "#11\n",
    "n1 = int(input(\"enter first number\"))\n",
    "n2 = int(input(\"enter second number\"))\n",
    "n3 = int(input(\"enter third number\"))\n",
    "\n",
    "if n1 > n2:\n",
    "    if n1 > n3:\n",
    "        print(f\"{n1} is greatest\")\n",
    "    else:\n",
    "        print(f\"{n3} is greated\")\n",
    "elif n2 > n3:\n",
    "    print(f\"{n2} is greatest\")\n",
    "else:\n",
    "    print(f\"{n3} is greatest\")"
   ]
  },
  {
   "cell_type": "code",
   "execution_count": 13,
   "id": "1cb173ca-e8fd-428f-9e0a-9eb9a4390d0d",
   "metadata": {},
   "outputs": [
    {
     "name": "stdin",
     "output_type": "stream",
     "text": [
      "enter first side 5\n",
      "enter second side 3\n",
      "enter third side 3\n"
     ]
    },
    {
     "name": "stdout",
     "output_type": "stream",
     "text": [
      "isosceles triangle\n"
     ]
    }
   ],
   "source": [
    "#12\n",
    "n1 = int(input(\"enter first side\"))\n",
    "n2 = int(input(\"enter second side\"))\n",
    "n3 = int(input(\"enter third side\"))\n",
    "\n",
    "if n1 == n2 and n1 == n3:\n",
    "    print(\"equilateral triangle\")\n",
    "elif ((n1 == n2 and n1 != n3) or (n1 == n3 and n1 != n2) or (n2 == n3 and n1 != n2)):\n",
    "    print(\"isosceles triangle\")\n",
    "else:\n",
    "    print(\"scalene triangle\")"
   ]
  },
  {
   "cell_type": "code",
   "execution_count": 12,
   "id": "7e6e7341-2ebe-4f13-a137-69a7f45b930f",
   "metadata": {},
   "outputs": [
    {
     "name": "stdin",
     "output_type": "stream",
     "text": [
      "Enter a year:  2000\n"
     ]
    },
    {
     "name": "stdout",
     "output_type": "stream",
     "text": [
      "2000 is a leap year and a century year.\n"
     ]
    }
   ],
   "source": [
    "#13\n",
    "year = int(input(\"Enter a year: \"))\n",
    "\n",
    "if year % 4 == 0:\n",
    "    if year % 100 == 0:\n",
    "        if year % 400 == 0:\n",
    "            print(year, \"is a leap year and a century year.\")\n",
    "        else:\n",
    "            print(year, \"is not a leap year but is a century year.\")\n",
    "    else:\n",
    "        print(year, \"is a leap year but not a century year.\")\n",
    "else:\n",
    "    if year % 100 == 0:\n",
    "        print(year, \"is not a leap year but is a century year.\")\n",
    "    else:\n",
    "        print(year, \"is neither a leap year nor a century year.\")\n"
   ]
  },
  {
   "cell_type": "code",
   "execution_count": 15,
   "id": "ba26021c-066d-4fbb-b0db-6e11a2328698",
   "metadata": {},
   "outputs": [
    {
     "name": "stdin",
     "output_type": "stream",
     "text": [
      "Enter a number:  0\n"
     ]
    },
    {
     "name": "stdout",
     "output_type": "stream",
     "text": [
      "The number is zero.\n"
     ]
    }
   ],
   "source": [
    "#14\n",
    "number = float(input(\"Enter a number: \"))\n",
    "\n",
    "if number > 0:\n",
    "    print(\"The number is positive.\")\n",
    "elif number < 0:\n",
    "    print(\"The number is negative.\")\n",
    "else:\n",
    "    print(\"The number is zero.\")\n"
   ]
  },
  {
   "cell_type": "code",
   "execution_count": 16,
   "id": "deef1949-4df0-46b6-babd-c0a1f08af7fa",
   "metadata": {},
   "outputs": [
    {
     "name": "stdin",
     "output_type": "stream",
     "text": [
      "Enter your age:  17\n"
     ]
    },
    {
     "name": "stdout",
     "output_type": "stream",
     "text": [
      "You are a teenager.\n"
     ]
    }
   ],
   "source": [
    "#15\n",
    "age = int(input(\"Enter your age: \"))\n",
    "\n",
    "if 13 <= age <= 19:\n",
    "    print(\"You are a teenager.\")\n",
    "else:\n",
    "    print(\"You are not a teenager.\")\n"
   ]
  },
  {
   "cell_type": "code",
   "execution_count": 17,
   "id": "6795140b-e6f7-4e29-b299-1660ad9fb0a0",
   "metadata": {},
   "outputs": [
    {
     "name": "stdin",
     "output_type": "stream",
     "text": [
      "Enter the angle measure in degrees:  79\n"
     ]
    },
    {
     "name": "stdout",
     "output_type": "stream",
     "text": [
      "The angle is acute.\n"
     ]
    }
   ],
   "source": [
    "#16\n",
    "angle = float(input(\"Enter the angle measure in degrees: \"))\n",
    "\n",
    "if angle > 0:\n",
    "    if angle < 90:\n",
    "        print(\"The angle is acute.\")\n",
    "    elif angle == 90:\n",
    "        print(\"The angle is a right angle.\")\n",
    "    elif angle < 180:\n",
    "        print(\"The angle is obtuse.\")\n",
    "    elif angle == 180:\n",
    "        print(\"The angle is a straight angle.\")\n",
    "    else:\n",
    "        print(\"The angle is neither acute, obtuse, nor a straight angle.\")\n",
    "else:\n",
    "    print(\"Invalid input: The angle measure must be greater than 0.\")\n"
   ]
  },
  {
   "cell_type": "code",
   "execution_count": 18,
   "id": "467ea7d3-b2a8-4cda-bc82-5aa3141febb6",
   "metadata": {},
   "outputs": [
    {
     "name": "stdin",
     "output_type": "stream",
     "text": [
      "Enter the coefficient a:  5\n",
      "Enter the coefficient b:  4\n",
      "Enter the coefficient c:  8\n"
     ]
    },
    {
     "name": "stdout",
     "output_type": "stream",
     "text": [
      "The roots are complex: -0.4 + 1.2i and -0.4 - 1.2i\n"
     ]
    }
   ],
   "source": [
    "#17\n",
    "import math\n",
    "\n",
    "a = float(input(\"Enter the coefficient a: \"))\n",
    "b = float(input(\"Enter the coefficient b: \"))\n",
    "c = float(input(\"Enter the coefficient c: \"))\n",
    "\n",
    "discriminant = b**2 - 4*a*c\n",
    "\n",
    "if discriminant > 0:\n",
    "    root1 = (-b + math.sqrt(discriminant)) / (2*a)\n",
    "    root2 = (-b - math.sqrt(discriminant)) / (2*a)\n",
    "    print(f\"The roots are real and distinct: {root1} and {root2}\")\n",
    "elif discriminant == 0:\n",
    "    root = -b / (2*a)\n",
    "    print(f\"The root is real and equal: {root}\")\n",
    "else:\n",
    "    real_part = -b / (2*a)\n",
    "    imaginary_part = math.sqrt(abs(discriminant)) / (2*a)\n",
    "    print(f\"The roots are complex: {real_part} + {imaginary_part}i and {real_part} - {imaginary_part}i\")\n"
   ]
  },
  {
   "cell_type": "code",
   "execution_count": 19,
   "id": "46b801c5-c9e3-4fdb-9db0-5012c5c7123e",
   "metadata": {},
   "outputs": [
    {
     "name": "stdin",
     "output_type": "stream",
     "text": [
      "Enter a number (1 for Monday, 2 for Tuesday, etc.):  5\n"
     ]
    },
    {
     "name": "stdout",
     "output_type": "stream",
     "text": [
      "The day corresponding to 5 is Friday.\n"
     ]
    }
   ],
   "source": [
    "#18\n",
    "day_number = int(input(\"Enter a number (1 for Monday, 2 for Tuesday, etc.): \"))\n",
    "\n",
    "days_of_week = [\"Monday\", \"Tuesday\", \"Wednesday\", \"Thursday\", \"Friday\", \"Saturday\", \"Sunday\"]\n",
    "\n",
    "if 1 <= day_number <= 7:\n",
    "    day_name = days_of_week[day_number - 1]\n",
    "    print(f\"The day corresponding to {day_number} is {day_name}.\")\n",
    "else:\n",
    "    print(\"Invalid input. Please enter a number between 1 and 7.\")\n"
   ]
  },
  {
   "cell_type": "code",
   "execution_count": 20,
   "id": "83feab8a-62db-4385-a99a-19f58f5227cf",
   "metadata": {},
   "outputs": [
    {
     "name": "stdin",
     "output_type": "stream",
     "text": [
      "Enter a year:  2000\n"
     ]
    },
    {
     "name": "stdout",
     "output_type": "stream",
     "text": [
      "2000 is a leap year.\n"
     ]
    }
   ],
   "source": [
    "#19\n",
    "year = int(input(\"Enter a year: \"))\n",
    "\n",
    "if (year % 4 == 0 and year % 100 != 0) or (year % 400 == 0):\n",
    "    print(year, \"is a leap year.\")\n",
    "else:\n",
    "    print(year, \"is not a leap year.\")\n"
   ]
  },
  {
   "cell_type": "code",
   "execution_count": 21,
   "id": "63fc80fc-0126-424e-b0d5-45d273970c4e",
   "metadata": {},
   "outputs": [
    {
     "name": "stdin",
     "output_type": "stream",
     "text": [
      "Enter a number:  30\n"
     ]
    },
    {
     "name": "stdout",
     "output_type": "stream",
     "text": [
      "30 is not a prime number.\n"
     ]
    }
   ],
   "source": [
    "#20\n",
    "num = int(input(\"Enter a number: \"))\n",
    "\n",
    "if num > 1:\n",
    "    for i in range(2, int(num ** 0.5) + 1):\n",
    "        if num % i == 0:\n",
    "            print(num, \"is not a prime number.\")\n",
    "            break\n",
    "    else:\n",
    "        print(num, \"is a prime number.\")\n",
    "else:\n",
    "    print(num, \"is not a prime number.\")\n"
   ]
  },
  {
   "cell_type": "code",
   "execution_count": 22,
   "id": "91eb8b7d-213c-46cb-96c5-e5db31789b35",
   "metadata": {},
   "outputs": [],
   "source": [
    "#elif statements"
   ]
  },
  {
   "cell_type": "code",
   "execution_count": 23,
   "id": "ec31c9e1-a002-4ec4-9486-a7e1b3cd0003",
   "metadata": {},
   "outputs": [
    {
     "name": "stdin",
     "output_type": "stream",
     "text": [
      "Enter the student's score:  66\n"
     ]
    },
    {
     "name": "stdout",
     "output_type": "stream",
     "text": [
      "The student's grade is D.\n"
     ]
    }
   ],
   "source": [
    "#21\n",
    "score = float(input(\"Enter the student's score: \"))\n",
    "\n",
    "if score >= 90:\n",
    "    grade = \"A\"\n",
    "elif score >= 80:\n",
    "    grade = \"B\"\n",
    "elif score >= 70:\n",
    "    grade = \"C\"\n",
    "elif score >= 60:\n",
    "    grade = \"D\"\n",
    "else:\n",
    "    grade = \"F\"\n",
    "\n",
    "print(f\"The student's grade is {grade}.\")\n"
   ]
  },
  {
   "cell_type": "code",
   "execution_count": 24,
   "id": "22ab8483-efb1-4b60-918d-3fc40ef96afd",
   "metadata": {},
   "outputs": [
    {
     "name": "stdin",
     "output_type": "stream",
     "text": [
      "Enter the first angle:  90\n",
      "Enter the second angle:  60\n",
      "Enter the third angle:  30\n"
     ]
    },
    {
     "name": "stdout",
     "output_type": "stream",
     "text": [
      "The triangle is Scalene.\n"
     ]
    }
   ],
   "source": [
    "#22\n",
    "angle1 = int(input(\"Enter the first angle: \"))\n",
    "angle2 = int(input(\"Enter the second angle: \"))\n",
    "angle3 = int(input(\"Enter the third angle: \"))\n",
    "\n",
    "if angle1 + angle2 + angle3 == 180:\n",
    "    if angle1 == angle2 == angle3:\n",
    "        triangle_type = \"Equilateral\"\n",
    "    elif angle1 == angle2 or angle1 == angle3 or angle2 == angle3:\n",
    "        triangle_type = \"Isosceles\"\n",
    "    else:\n",
    "        triangle_type = \"Scalene\"\n",
    "else:\n",
    "    triangle_type = \"Invalid\"\n",
    "\n",
    "print(f\"The triangle is {triangle_type}.\")\n"
   ]
  },
  {
   "cell_type": "code",
   "execution_count": 25,
   "id": "116e901b-33c9-4e7c-9f08-c4bec50d9662",
   "metadata": {},
   "outputs": [
    {
     "name": "stdin",
     "output_type": "stream",
     "text": [
      "Enter weight (kg):  100\n",
      "Enter height (m):  1.90\n"
     ]
    },
    {
     "name": "stdout",
     "output_type": "stream",
     "text": [
      "The person's BMI category is Overweight.\n"
     ]
    }
   ],
   "source": [
    "#23\n",
    "weight = float(input(\"Enter weight (kg): \"))\n",
    "height = float(input(\"Enter height (m): \"))\n",
    "\n",
    "bmi = weight / (height**2)\n",
    "\n",
    "if bmi < 18.5:\n",
    "    category = \"Underweight\"\n",
    "elif 18.5 <= bmi < 24.9:\n",
    "    category = \"Normal\"\n",
    "elif 24.9 <= bmi < 29.9:\n",
    "    category = \"Overweight\"\n",
    "else:\n",
    "    category = \"Obese\"\n",
    "\n",
    "print(f\"The person's BMI category is {category}.\")\n"
   ]
  },
  {
   "cell_type": "code",
   "execution_count": 26,
   "id": "cf0500e3-65fc-4510-99a4-cecc33d8dbbe",
   "metadata": {},
   "outputs": [
    {
     "name": "stdin",
     "output_type": "stream",
     "text": [
      "Enter a number:  3.53\n"
     ]
    },
    {
     "name": "stdout",
     "output_type": "stream",
     "text": [
      "The number is Positive.\n"
     ]
    }
   ],
   "source": [
    "#24\n",
    "number = float(input(\"Enter a number: \"))\n",
    "\n",
    "if number > 0:\n",
    "    result = \"Positive\"\n",
    "elif number < 0:\n",
    "    result = \"Negative\"\n",
    "else:\n",
    "    result = \"Zero\"\n",
    "\n",
    "print(f\"The number is {result}.\")\n"
   ]
  },
  {
   "cell_type": "code",
   "execution_count": 27,
   "id": "9d5a0777-366c-47c6-9e93-8877c19d5900",
   "metadata": {},
   "outputs": [
    {
     "name": "stdin",
     "output_type": "stream",
     "text": [
      "Enter a character:  T\n"
     ]
    },
    {
     "name": "stdout",
     "output_type": "stream",
     "text": [
      "The character is Uppercase.\n"
     ]
    }
   ],
   "source": [
    "#25\n",
    "char = input(\"Enter a character: \")\n",
    "\n",
    "if char.isupper():\n",
    "    char_type = \"Uppercase\"\n",
    "elif char.islower():\n",
    "    char_type = \"Lowercase\"\n",
    "else:\n",
    "    char_type = \"Special\"\n",
    "\n",
    "print(f\"The character is {char_type}.\")\n"
   ]
  },
  {
   "cell_type": "code",
   "execution_count": 30,
   "id": "d1f0854d-5026-4d71-bcb5-9b06e140829a",
   "metadata": {},
   "outputs": [
    {
     "name": "stdin",
     "output_type": "stream",
     "text": [
      "Enter the purchase amount:  499\n"
     ]
    },
    {
     "name": "stdout",
     "output_type": "stream",
     "text": [
      "The discounted price is 449.10.\n"
     ]
    }
   ],
   "source": [
    "#26\n",
    "amount = float(input(\"Enter the purchase amount: \"))\n",
    "\n",
    "if amount < 100:\n",
    "    discount = 0\n",
    "elif 100 <= amount < 500:\n",
    "    discount = 10\n",
    "elif 500 <= amount < 1000:\n",
    "    discount = 20\n",
    "else:\n",
    "    discount = 30\n",
    "\n",
    "discounted_price = amount - (amount * discount / 100)\n",
    "\n",
    "print(f\"The discounted price is {discounted_price:.2f}.\")\n"
   ]
  },
  {
   "cell_type": "code",
   "execution_count": 31,
   "id": "9c0d2b0e-b104-4f28-8230-66c47b66dc06",
   "metadata": {},
   "outputs": [
    {
     "name": "stdin",
     "output_type": "stream",
     "text": [
      "Enter the electricity consumption in kWh:  300\n"
     ]
    },
    {
     "name": "stdout",
     "output_type": "stream",
     "text": [
      "The electricity bill is $75.00.\n"
     ]
    }
   ],
   "source": [
    "#27\n",
    "consumption = float(input(\"Enter the electricity consumption in kWh: \"))\n",
    "\n",
    "if consumption <= 100:\n",
    "    rate = 0.15\n",
    "elif 101 <= consumption <= 200:\n",
    "    rate = 0.20\n",
    "elif 201 <= consumption <= 300:\n",
    "    rate = 0.25\n",
    "else:\n",
    "    rate = 0.30\n",
    "\n",
    "bill = consumption * rate\n",
    "\n",
    "print(f\"The electricity bill is ${bill:.2f}.\")\n"
   ]
  },
  {
   "cell_type": "code",
   "execution_count": 33,
   "id": "6b6ffe9d-47d1-4834-ad7b-76ccbc0719b2",
   "metadata": {},
   "outputs": [
    {
     "name": "stdin",
     "output_type": "stream",
     "text": [
      "Enter the first angle:  90\n",
      "Enter the second angle:  90\n",
      "Enter the third angle:  90\n",
      "Enter the fourth angle:  90\n",
      "Enter the first side length:  4\n",
      "Enter the second side length:  5\n",
      "Enter the third side length:  4\n",
      "Enter the fourth side length:  5\n"
     ]
    },
    {
     "name": "stdout",
     "output_type": "stream",
     "text": [
      "The quadrilateral is a Rectangle.\n"
     ]
    }
   ],
   "source": [
    "#28\n",
    "angle1 = int(input(\"Enter the first angle: \"))\n",
    "angle2 = int(input(\"Enter the second angle: \"))\n",
    "angle3 = int(input(\"Enter the third angle: \"))\n",
    "angle4 = int(input(\"Enter the fourth angle: \"))\n",
    "side1 = float(input(\"Enter the first side length: \"))\n",
    "side2 = float(input(\"Enter the second side length: \"))\n",
    "side3 = float(input(\"Enter the third side length: \"))\n",
    "side4 = float(input(\"Enter the fourth side length: \"))\n",
    "\n",
    "if angle1 + angle2 + angle3 + angle4 == 360:\n",
    "    if side1 == side2 == side3 == side4:\n",
    "        if angle1 == angle2 == angle3 == angle4 == 90:\n",
    "            quadrilateral_type = \"Square\"\n",
    "        else:\n",
    "            quadrilateral_type = \"Rhombus\"\n",
    "    elif side1 == side3 and side2 == side4:\n",
    "        if angle1 == angle2 == angle3 == angle4 == 90:\n",
    "            quadrilateral_type = \"Rectangle\"\n",
    "        else:\n",
    "            quadrilateral_type = \"Parallelogram\"\n",
    "    else:\n",
    "        quadrilateral_type = \"Quadrilateral\"\n",
    "else:\n",
    "    quadrilateral_type = \"Invalid\"\n",
    "\n",
    "print(f\"The quadrilateral is a {quadrilateral_type}.\")\n"
   ]
  },
  {
   "cell_type": "code",
   "execution_count": 34,
   "id": "ef88bff2-d634-4d45-ad3d-3d3caf3f04e8",
   "metadata": {},
   "outputs": [
    {
     "name": "stdin",
     "output_type": "stream",
     "text": [
      "Enter the month number (1-12):  10\n"
     ]
    },
    {
     "name": "stdout",
     "output_type": "stream",
     "text": [
      "The season for month 10 is Autumn.\n"
     ]
    }
   ],
   "source": [
    "#29\n",
    "month = int(input(\"Enter the month number (1-12): \"))\n",
    "\n",
    "if 3 <= month <= 5:\n",
    "    season = \"Spring\"\n",
    "elif 6 <= month <= 8:\n",
    "    season = \"Summer\"\n",
    "elif 9 <= month <= 11:\n",
    "    season = \"Autumn\"\n",
    "elif month == 12 or month == 1 or month == 2:\n",
    "    season = \"Winter\"\n",
    "else:\n",
    "    season = \"Invalid\"\n",
    "\n",
    "print(f\"The season for month {month} is {season}.\")\n"
   ]
  },
  {
   "cell_type": "code",
   "execution_count": 35,
   "id": "ed9e87bd-1147-47f1-aeb6-424056bfb9cc",
   "metadata": {},
   "outputs": [
    {
     "name": "stdin",
     "output_type": "stream",
     "text": [
      "Enter a year:  2022\n",
      "Enter a month number (1-12):  3\n"
     ]
    },
    {
     "name": "stdout",
     "output_type": "stream",
     "text": [
      "2022 is a Common Year, and month 3 has 31 days.\n"
     ]
    }
   ],
   "source": [
    "#30\n",
    "year = int(input(\"Enter a year: \"))\n",
    "\n",
    "if (year % 4 == 0 and year % 100 != 0) or (year % 400 == 0):\n",
    "    is_leap_year = True\n",
    "else:\n",
    "    is_leap_year = False\n",
    "\n",
    "month = int(input(\"Enter a month number (1-12): \"))\n",
    "\n",
    "if month in [4, 6, 9, 11]:\n",
    "    days_in_month = 30\n",
    "elif month == 2:\n",
    "    if is_leap_year:\n",
    "        days_in_month = 29\n",
    "    else:\n",
    "        days_in_month = 28\n",
    "else:\n",
    "    days_in_month = 31\n",
    "\n",
    "if is_leap_year:\n",
    "    year_type = \"Leap Year\"\n",
    "else:\n",
    "    year_type = \"Common Year\"\n",
    "\n",
    "print(f\"{year} is a {year_type}, and month {month} has {days_in_month} days.\")\n"
   ]
  },
  {
   "cell_type": "code",
   "execution_count": 1,
   "id": "6888192b-61b6-4539-bf95-5a3855405e07",
   "metadata": {},
   "outputs": [],
   "source": [
    "#basic level"
   ]
  },
  {
   "cell_type": "code",
   "execution_count": 2,
   "id": "09c56172-4761-4687-9378-d9d5dc308eef",
   "metadata": {},
   "outputs": [
    {
     "name": "stdin",
     "output_type": "stream",
     "text": [
      "enter a number 0\n"
     ]
    },
    {
     "name": "stdout",
     "output_type": "stream",
     "text": [
      "the number is zero\n"
     ]
    }
   ],
   "source": [
    "#1\n",
    "n = float(input(\"enter a number\"))\n",
    "if n > 0:\n",
    "    print(\"the number is positive\")\n",
    "elif n < 0:\n",
    "    print(\"the number is negative\")\n",
    "else:\n",
    "    print(\"the number is zero\")"
   ]
  },
  {
   "cell_type": "code",
   "execution_count": 3,
   "id": "ecf74e6b-b882-4259-a647-aeea1a5bb7aa",
   "metadata": {},
   "outputs": [
    {
     "name": "stdin",
     "output_type": "stream",
     "text": [
      "Enter your age:  18\n"
     ]
    },
    {
     "name": "stdout",
     "output_type": "stream",
     "text": [
      "You are eligible to vote.\n"
     ]
    }
   ],
   "source": [
    "#2\n",
    "age = int(input(\"Enter your age: \"))\n",
    "\n",
    "if age >= 18:\n",
    "    print(\"You are eligible to vote.\")\n",
    "else:\n",
    "    print(\"You are not eligible to vote.\")\n"
   ]
  },
  {
   "cell_type": "code",
   "execution_count": 4,
   "id": "2f7c4e75-837a-4fb8-90b1-84e6925c5d13",
   "metadata": {},
   "outputs": [
    {
     "name": "stdin",
     "output_type": "stream",
     "text": [
      "Enter the first number:  71\n",
      "Enter the second number:  71.5\n"
     ]
    },
    {
     "name": "stdout",
     "output_type": "stream",
     "text": [
      "The maximum number is 71.5.\n"
     ]
    }
   ],
   "source": [
    "#3\n",
    "num1 = float(input(\"Enter the first number: \"))\n",
    "num2 = float(input(\"Enter the second number: \"))\n",
    "\n",
    "if num1 > num2:\n",
    "    max_num = num1\n",
    "else:\n",
    "    max_num = num2\n",
    "\n",
    "print(f\"The maximum number is {max_num}.\")\n"
   ]
  },
  {
   "cell_type": "code",
   "execution_count": 5,
   "id": "191e6a69-cb39-40c2-bfc3-c53f33fa9ba8",
   "metadata": {},
   "outputs": [
    {
     "name": "stdin",
     "output_type": "stream",
     "text": [
      "Enter your exam score:  89\n"
     ]
    },
    {
     "name": "stdout",
     "output_type": "stream",
     "text": [
      "Your grade is B.\n"
     ]
    }
   ],
   "source": [
    "#4\n",
    "score = float(input(\"Enter your exam score: \"))\n",
    "\n",
    "if score >= 90:\n",
    "    grade = \"A\"\n",
    "elif score >= 80:\n",
    "    grade = \"B\"\n",
    "elif score >= 70:\n",
    "    grade = \"C\"\n",
    "elif score >= 60:\n",
    "    grade = \"D\"\n",
    "else:\n",
    "    grade = \"F\"\n",
    "\n",
    "print(f\"Your grade is {grade}.\")\n"
   ]
  },
  {
   "cell_type": "code",
   "execution_count": 6,
   "id": "280b0c0b-0050-485c-bda7-06723ba69238",
   "metadata": {},
   "outputs": [
    {
     "name": "stdin",
     "output_type": "stream",
     "text": [
      "Enter a year:  2020\n"
     ]
    },
    {
     "name": "stdout",
     "output_type": "stream",
     "text": [
      "2020 is a leap year.\n"
     ]
    }
   ],
   "source": [
    "#5\n",
    "year = int(input(\"Enter a year: \"))\n",
    "\n",
    "if (year % 4 == 0 and year % 100 != 0) or (year % 400 == 0):\n",
    "    print(year, \"is a leap year.\")\n",
    "else:\n",
    "    print(year, \"is not a leap year.\")\n"
   ]
  },
  {
   "cell_type": "code",
   "execution_count": 7,
   "id": "b176fe39-93c4-4bff-a5a9-e83f52891448",
   "metadata": {},
   "outputs": [
    {
     "name": "stdin",
     "output_type": "stream",
     "text": [
      "Enter the length of side a:  10\n",
      "Enter the length of side b:  20\n",
      "Enter the length of side c:  20\n"
     ]
    },
    {
     "name": "stdout",
     "output_type": "stream",
     "text": [
      "The triangle is Isosceles.\n"
     ]
    }
   ],
   "source": [
    "#6\n",
    "a = float(input(\"Enter the length of side a: \"))\n",
    "b = float(input(\"Enter the length of side b: \"))\n",
    "c = float(input(\"Enter the length of side c: \"))\n",
    "\n",
    "if a == b == c:\n",
    "    triangle_type = \"Equilateral\"\n",
    "elif a == b or b == c or a == c:\n",
    "    triangle_type = \"Isosceles\"\n",
    "else:\n",
    "    triangle_type = \"Scalene\"\n",
    "\n",
    "print(f\"The triangle is {triangle_type}.\")\n"
   ]
  },
  {
   "cell_type": "code",
   "execution_count": 9,
   "id": "297c02d2-0520-47a7-beda-2de83fb473b0",
   "metadata": {},
   "outputs": [
    {
     "name": "stdin",
     "output_type": "stream",
     "text": [
      "Enter the first number:  5\n",
      "Enter the second number:  5.5\n",
      "Enter the third number:  5.56\n"
     ]
    },
    {
     "name": "stdout",
     "output_type": "stream",
     "text": [
      "The largest number is 5.56.\n"
     ]
    }
   ],
   "source": [
    "#7\n",
    "num1 = float(input(\"Enter the first number: \"))\n",
    "num2 = float(input(\"Enter the second number: \"))\n",
    "num3 = float(input(\"Enter the third number: \"))\n",
    "\n",
    "if num1 >= num2 and num1 >= num3:\n",
    "    largest_num = num1\n",
    "elif num2 >= num1 and num2 >= num3:\n",
    "    largest_num = num2\n",
    "else:\n",
    "    largest_num = num3\n",
    "\n",
    "print(f\"The largest number is {largest_num}.\")"
   ]
  },
  {
   "cell_type": "code",
   "execution_count": 10,
   "id": "35ce44d8-ff6b-4b0f-8ee6-d8869c977502",
   "metadata": {},
   "outputs": [
    {
     "name": "stdin",
     "output_type": "stream",
     "text": [
      "Enter a character:  a\n"
     ]
    },
    {
     "name": "stdout",
     "output_type": "stream",
     "text": [
      "The character 'a' is a vowel.\n"
     ]
    }
   ],
   "source": [
    "#8\n",
    "char = input(\"Enter a character: \")\n",
    "\n",
    "if char.lower() in \"aeiou\":\n",
    "    print(f\"The character '{char}' is a vowel.\")\n",
    "else:\n",
    "    print(f\"The character '{char}' is a consonant.\")\n"
   ]
  },
  {
   "cell_type": "code",
   "execution_count": 11,
   "id": "bbcf996b-c4e1-4ba6-9411-cd0e0b0510e3",
   "metadata": {},
   "outputs": [
    {
     "name": "stdin",
     "output_type": "stream",
     "text": [
      "Enter the number of items:  3\n",
      "Enter the price of item 1:  20\n",
      "Enter the price of item 2:  25\n",
      "Enter the price of item 3:  10\n"
     ]
    },
    {
     "name": "stdout",
     "output_type": "stream",
     "text": [
      "The total cost of your shopping cart is $55.00.\n"
     ]
    }
   ],
   "source": [
    "#9\n",
    "num_items = int(input(\"Enter the number of items: \"))\n",
    "total_cost = 0\n",
    "\n",
    "for i in range(num_items):\n",
    "    item_price = float(input(f\"Enter the price of item {i+1}: \"))\n",
    "    if item_price >= 100:\n",
    "        total_cost += item_price * 0.9 \n",
    "    else:\n",
    "        total_cost += item_price\n",
    "\n",
    "print(f\"The total cost of your shopping cart is ${total_cost:.2f}.\")\n"
   ]
  },
  {
   "cell_type": "code",
   "execution_count": 12,
   "id": "e91ba793-7bec-4a60-b116-65ad244029f1",
   "metadata": {},
   "outputs": [
    {
     "name": "stdin",
     "output_type": "stream",
     "text": [
      "Enter a number:  12\n"
     ]
    },
    {
     "name": "stdout",
     "output_type": "stream",
     "text": [
      "12 is even.\n"
     ]
    }
   ],
   "source": [
    "#10\n",
    "number = int(input(\"Enter a number: \"))\n",
    "\n",
    "if number % 2 == 0:\n",
    "    print(f\"{number} is even.\")\n",
    "else:\n",
    "    print(f\"{number} is odd.\")\n"
   ]
  },
  {
   "cell_type": "code",
   "execution_count": 15,
   "id": "52623a33-53df-453d-842b-0a7945fea026",
   "metadata": {},
   "outputs": [],
   "source": [
    "#intermediate level"
   ]
  },
  {
   "cell_type": "code",
   "execution_count": 14,
   "id": "b4a47a81-97ac-4998-9cc7-649148e18b5e",
   "metadata": {},
   "outputs": [
    {
     "name": "stdin",
     "output_type": "stream",
     "text": [
      "Enter the coefficient a:  1\n",
      "Enter the coefficient b:  1\n",
      "Enter the coefficient c:  1\n"
     ]
    },
    {
     "name": "stdout",
     "output_type": "stream",
     "text": [
      "The roots of the quadratic equation are: (-0.5+0.8660254037844386j) and (-0.5-0.8660254037844386j)\n"
     ]
    }
   ],
   "source": [
    "#11\n",
    "import cmath  \n",
    "\n",
    "a = float(input(\"Enter the coefficient a: \"))\n",
    "b = float(input(\"Enter the coefficient b: \"))\n",
    "c = float(input(\"Enter the coefficient c: \"))\n",
    "\n",
    "discriminant = b**2 - 4*a*c\n",
    "\n",
    "root1 = (-b + cmath.sqrt(discriminant)) / (2*a)\n",
    "root2 = (-b - cmath.sqrt(discriminant)) / (2*a)\n",
    "\n",
    "print(f\"The roots of the quadratic equation are: {root1} and {root2}\")\n"
   ]
  },
  {
   "cell_type": "code",
   "execution_count": 16,
   "id": "1d6f6942-bc8f-4c72-bc93-0c9f5326578f",
   "metadata": {},
   "outputs": [
    {
     "name": "stdin",
     "output_type": "stream",
     "text": [
      "Enter a day number (1-7):  7\n"
     ]
    },
    {
     "name": "stdout",
     "output_type": "stream",
     "text": [
      "The day corresponding to 7 is Sunday.\n"
     ]
    }
   ],
   "source": [
    "#12\n",
    "day_number = int(input(\"Enter a day number (1-7): \"))\n",
    "\n",
    "days_of_week = [\"Monday\", \"Tuesday\", \"Wednesday\", \"Thursday\", \"Friday\", \"Saturday\", \"Sunday\"]\n",
    "\n",
    "if 1 <= day_number <= 7:\n",
    "    day_name = days_of_week[day_number - 1]\n",
    "    print(f\"The day corresponding to {day_number} is {day_name}.\")\n",
    "else:\n",
    "    print(\"Invalid input. Please enter a number between 1 and 7.\")"
   ]
  },
  {
   "cell_type": "code",
   "execution_count": 17,
   "id": "7905b2f9-8d3d-46bb-b8a5-746b2e2153c2",
   "metadata": {},
   "outputs": [
    {
     "name": "stdin",
     "output_type": "stream",
     "text": [
      "Enter a number:  5\n"
     ]
    },
    {
     "name": "stdout",
     "output_type": "stream",
     "text": [
      "The factorial of 5 is 120.\n"
     ]
    }
   ],
   "source": [
    "#13\n",
    "def factorial(n):\n",
    "    if n == 0:\n",
    "        return 1\n",
    "    else:\n",
    "        return n * factorial(n - 1)\n",
    "\n",
    "num = int(input(\"Enter a number: \"))\n",
    "\n",
    "if num < 0:\n",
    "    print(\"Factorial is not defined for negative numbers.\")\n",
    "else:\n",
    "    result = factorial(num)\n",
    "    print(f\"The factorial of {num} is {result}.\")\n"
   ]
  },
  {
   "cell_type": "code",
   "execution_count": 18,
   "id": "76f4b397-876d-4fde-8b66-7b12483f9bdb",
   "metadata": {},
   "outputs": [
    {
     "name": "stdin",
     "output_type": "stream",
     "text": [
      "Enter the first number:  5\n",
      "Enter the second number:  8\n",
      "Enter the third number:  6\n"
     ]
    },
    {
     "name": "stdout",
     "output_type": "stream",
     "text": [
      "The largest number is 8.0.\n"
     ]
    }
   ],
   "source": [
    "#14\n",
    "num1 = float(input(\"Enter the first number: \"))\n",
    "num2 = float(input(\"Enter the second number: \"))\n",
    "num3 = float(input(\"Enter the third number: \"))\n",
    "\n",
    "largest_num = num1\n",
    "\n",
    "if num2 > largest_num:\n",
    "    largest_num = num2\n",
    "\n",
    "if num3 > largest_num:\n",
    "    largest_num = num3\n",
    "\n",
    "print(f\"The largest number is {largest_num}.\")\n"
   ]
  },
  {
   "cell_type": "code",
   "execution_count": 19,
   "id": "7275429f-36e4-43ad-8494-d8c334411875",
   "metadata": {},
   "outputs": [
    {
     "name": "stdout",
     "output_type": "stream",
     "text": [
      "\n",
      "ATM Menu:\n",
      "1. Check Balance\n",
      "2. Deposit\n",
      "3. Withdraw\n",
      "4. Exit\n"
     ]
    },
    {
     "name": "stdin",
     "output_type": "stream",
     "text": [
      "Enter your choice (1/2/3/4):  3\n",
      "Enter the withdrawal amount:  500\n"
     ]
    },
    {
     "name": "stdout",
     "output_type": "stream",
     "text": [
      "$500.0 has been withdrawn. Your new balance is $500.0.\n",
      "\n",
      "ATM Menu:\n",
      "1. Check Balance\n",
      "2. Deposit\n",
      "3. Withdraw\n",
      "4. Exit\n"
     ]
    },
    {
     "name": "stdin",
     "output_type": "stream",
     "text": [
      "Enter your choice (1/2/3/4):  4\n"
     ]
    },
    {
     "name": "stdout",
     "output_type": "stream",
     "text": [
      "Thank you for using the ATM. Goodbye!\n"
     ]
    }
   ],
   "source": [
    "#15\n",
    "balance = 1000\n",
    "\n",
    "while True:\n",
    "    print(\"\\nATM Menu:\")\n",
    "    print(\"1. Check Balance\")\n",
    "    print(\"2. Deposit\")\n",
    "    print(\"3. Withdraw\")\n",
    "    print(\"4. Exit\")\n",
    "\n",
    "    choice = int(input(\"Enter your choice (1/2/3/4): \"))\n",
    "\n",
    "    if choice == 1:\n",
    "        print(f\"Your balance is ${balance}\")\n",
    "    elif choice == 2:\n",
    "        amount = float(input(\"Enter the deposit amount: \"))\n",
    "        balance += amount\n",
    "        print(f\"${amount} has been deposited. Your new balance is ${balance}.\")\n",
    "    elif choice == 3:\n",
    "        amount = float(input(\"Enter the withdrawal amount: \"))\n",
    "        if amount <= balance:\n",
    "            balance -= amount\n",
    "            print(f\"${amount} has been withdrawn. Your new balance is ${balance}.\")\n",
    "        else:\n",
    "            print(\"Insufficient funds.\")\n",
    "    elif choice == 4:\n",
    "        print(\"Thank you for using the ATM. Goodbye!\")\n",
    "        break\n",
    "    else:\n",
    "        print(\"Invalid choice. Please select a valid option.\")\n"
   ]
  },
  {
   "cell_type": "code",
   "execution_count": 21,
   "id": "cc8f89ed-181f-47f1-b485-f0228ee88ff1",
   "metadata": {},
   "outputs": [
    {
     "name": "stdin",
     "output_type": "stream",
     "text": [
      "Enter a string:  a88a\n"
     ]
    },
    {
     "name": "stdout",
     "output_type": "stream",
     "text": [
      "The string is a palindrome.\n"
     ]
    }
   ],
   "source": [
    "#16\n",
    "input_string = input(\"Enter a string: \")\n",
    "\n",
    "cleaned_string = input_string.replace(\" \", \"\").lower()\n",
    "\n",
    "if cleaned_string == cleaned_string[::-1]:\n",
    "    print(\"The string is a palindrome.\")\n",
    "else:\n",
    "    print(\"The string is not a palindrome.\")\n"
   ]
  },
  {
   "cell_type": "code",
   "execution_count": 22,
   "id": "9df2e757-a86d-410b-8973-31ec9561cd83",
   "metadata": {},
   "outputs": [
    {
     "name": "stdin",
     "output_type": "stream",
     "text": [
      "Enter a list of numbers separated by spaces:  3 5 8\n"
     ]
    },
    {
     "name": "stdout",
     "output_type": "stream",
     "text": [
      "The average (excluding smallest and largest) is 5.00.\n"
     ]
    }
   ],
   "source": [
    "#17\n",
    "numbers = [float(x) for x in input(\"Enter a list of numbers separated by spaces: \").split()]\n",
    "\n",
    "if len(numbers) < 3:\n",
    "    print(\"At least 3 numbers are required to compute the average.\")\n",
    "else:\n",
    "    numbers.remove(min(numbers))\n",
    "    numbers.remove(max(numbers))\n",
    "    \n",
    "    average = sum(numbers) / len(numbers)\n",
    "    \n",
    "    print(f\"The average (excluding smallest and largest) is {average:.2f}.\")\n"
   ]
  },
  {
   "cell_type": "code",
   "execution_count": 23,
   "id": "016a5bad-5691-430f-8e80-95bee6bd3f3e",
   "metadata": {},
   "outputs": [
    {
     "name": "stdin",
     "output_type": "stream",
     "text": [
      "Enter temperature in Celsius:  28\n"
     ]
    },
    {
     "name": "stdout",
     "output_type": "stream",
     "text": [
      "28.0 degrees Celsius is equal to 82.4 degrees Fahrenheit.\n"
     ]
    }
   ],
   "source": [
    "#18\n",
    "celsius = float(input(\"Enter temperature in Celsius: \"))\n",
    "\n",
    "fahrenheit = (celsius * 9/5) + 32\n",
    "\n",
    "print(f\"{celsius} degrees Celsius is equal to {fahrenheit} degrees Fahrenheit.\")\n"
   ]
  },
  {
   "cell_type": "code",
   "execution_count": 24,
   "id": "a5eaf8d7-b487-4e60-af2b-7ff5baf0dd69",
   "metadata": {},
   "outputs": [
    {
     "name": "stdin",
     "output_type": "stream",
     "text": [
      "Enter the first number:  5\n",
      "Enter the second number:  8\n",
      "Enter the operation (+, -, *, /):  *\n"
     ]
    },
    {
     "name": "stdout",
     "output_type": "stream",
     "text": [
      "Result: 40.0\n"
     ]
    }
   ],
   "source": [
    "#19\n",
    "num1 = float(input(\"Enter the first number: \"))\n",
    "num2 = float(input(\"Enter the second number: \"))\n",
    "operation = input(\"Enter the operation (+, -, *, /): \")\n",
    "\n",
    "if operation == \"+\":\n",
    "    result = num1 + num2\n",
    "elif operation == \"-\":\n",
    "    result = num1 - num2\n",
    "elif operation == \"*\":\n",
    "    result = num1 * num2\n",
    "elif operation == \"/\":\n",
    "    if num2 != 0:\n",
    "        result = num1 / num2\n",
    "    else:\n",
    "        result = \"Cannot divide by zero\"\n",
    "else:\n",
    "    result = \"Invalid operation\"\n",
    "\n",
    "print(f\"Result: {result}\")\n"
   ]
  },
  {
   "cell_type": "code",
   "execution_count": 25,
   "id": "dd5f7758-e05f-4081-ab01-36373a91c3da",
   "metadata": {},
   "outputs": [],
   "source": [
    "#20\n",
    "#not done"
   ]
  },
  {
   "cell_type": "code",
   "execution_count": 26,
   "id": "2c96ef79-4d2f-47bf-befa-650c28e48a15",
   "metadata": {},
   "outputs": [],
   "source": [
    "#Advanced level"
   ]
  },
  {
   "cell_type": "code",
   "execution_count": 28,
   "id": "e840f3ed-4315-47ed-ba9b-a2b2468e856f",
   "metadata": {},
   "outputs": [
    {
     "name": "stdin",
     "output_type": "stream",
     "text": [
      "Enter your income:  20000\n"
     ]
    },
    {
     "name": "stdout",
     "output_type": "stream",
     "text": [
      "Your income tax is $10000.00\n"
     ]
    }
   ],
   "source": [
    "#21\n",
    "income = float(input(\"Enter your income: \"))\n",
    "\n",
    "brackets = [10000, 20000, 40000, 80000]\n",
    "rates = [0.10, 0.20, 0.30, 0.40, 0.50]\n",
    "\n",
    "tax = 0\n",
    "remaining_income = income\n",
    "\n",
    "for i in range(len(brackets)):\n",
    "    if remaining_income <= 0:\n",
    "        break\n",
    "    if i == len(brackets) - 1 or remaining_income <= brackets[i]:\n",
    "        tax += remaining_income * rates[i]\n",
    "    else:\n",
    "        tax += brackets[i] * rates[i]\n",
    "        remaining_income -= brackets[i]\n",
    "\n",
    "print(f\"Your income tax is ${tax:.2f}\")\n"
   ]
  },
  {
   "cell_type": "code",
   "execution_count": 29,
   "id": "3a2771a4-1fce-460e-8f6a-74e2e8e4edfa",
   "metadata": {},
   "outputs": [
    {
     "name": "stdin",
     "output_type": "stream",
     "text": [
      "Enter your choice (rock, paper, or scissors):  paper\n"
     ]
    },
    {
     "name": "stdout",
     "output_type": "stream",
     "text": [
      "Computer chooses scissors\n",
      "Computer wins!\n"
     ]
    }
   ],
   "source": [
    "##22\n",
    "import random\n",
    "\n",
    "user_choice = input(\"Enter your choice (rock, paper, or scissors): \").lower()\n",
    "\n",
    "choices = [\"rock\", \"paper\", \"scissors\"]\n",
    "computer_choice = random.choice(choices)\n",
    "\n",
    "print(f\"Computer chooses {computer_choice}\")\n",
    "\n",
    "if user_choice == computer_choice:\n",
    "    print(\"It's a tie!\")\n",
    "elif (user_choice == \"rock\" and computer_choice == \"scissors\") or \\\n",
    "     (user_choice == \"scissors\" and computer_choice == \"paper\") or \\\n",
    "     (user_choice == \"paper\" and computer_choice == \"rock\"):\n",
    "    print(\"You win!\")\n",
    "else:\n",
    "    print(\"Computer wins!\")\n"
   ]
  },
  {
   "cell_type": "code",
   "execution_count": 30,
   "id": "d6c4a717-95df-43aa-b4b6-f863787d3d78",
   "metadata": {},
   "outputs": [
    {
     "name": "stdin",
     "output_type": "stream",
     "text": [
      "Enter the password length:  8\n",
      "Include digits (yes/no):  yes\n",
      "Include special characters (yes/no):  no\n"
     ]
    },
    {
     "name": "stdout",
     "output_type": "stream",
     "text": [
      "Your random password is: PL5eXgbG\n"
     ]
    }
   ],
   "source": [
    "#23\n",
    "import random\n",
    "import string\n",
    "\n",
    "length = int(input(\"Enter the password length: \"))\n",
    "include_digits = input(\"Include digits (yes/no): \").lower() == \"yes\"\n",
    "include_special_chars = input(\"Include special characters (yes/no): \").lower() == \"yes\"\n",
    "\n",
    "characters = string.ascii_letters\n",
    "if include_digits:\n",
    "    characters += string.digits\n",
    "if include_special_chars:\n",
    "    characters += string.punctuation\n",
    "\n",
    "password = ''.join(random.choice(characters) for _ in range(length))\n",
    "\n",
    "print(f\"Your random password is: {password}\")\n"
   ]
  },
  {
   "cell_type": "code",
   "execution_count": 33,
   "id": "da982a8e-49dd-4699-ad69-38dbbe0cee13",
   "metadata": {},
   "outputs": [
    {
     "name": "stdout",
     "output_type": "stream",
     "text": [
      "Welcome to the Adventure Game!\n",
      "You find yourself in a dark forest.\n",
      "\n",
      "Choose your path:\n",
      "1. Go deeper into the forest.\n",
      "2. Turn back and leave the forest.\n"
     ]
    },
    {
     "name": "stdin",
     "output_type": "stream",
     "text": [
      "Enter your choice (1/2):  1\n"
     ]
    },
    {
     "name": "stdout",
     "output_type": "stream",
     "text": [
      "You encounter a mysterious creature!\n",
      "What will you do?\n",
      "1. Try to communicate with it.\n",
      "2. Run away!\n"
     ]
    },
    {
     "name": "stdin",
     "output_type": "stream",
     "text": [
      "Enter your choice (1/2):  1\n"
     ]
    },
    {
     "name": "stdout",
     "output_type": "stream",
     "text": [
      "The creature is friendly and helps you find your way out of the forest. You win!\n"
     ]
    }
   ],
   "source": [
    "#24\n",
    "print(\"Welcome to the Adventure Game!\")\n",
    "print(\"You find yourself in a dark forest.\")\n",
    "\n",
    "while True:\n",
    "    print(\"\\nChoose your path:\")\n",
    "    print(\"1. Go deeper into the forest.\")\n",
    "    print(\"2. Turn back and leave the forest.\")\n",
    "\n",
    "    choice = input(\"Enter your choice (1/2): \")\n",
    "\n",
    "    if choice == \"1\":\n",
    "        print(\"You encounter a mysterious creature!\")\n",
    "        print(\"What will you do?\")\n",
    "        print(\"1. Try to communicate with it.\")\n",
    "        print(\"2. Run away!\")\n",
    "\n",
    "        action = input(\"Enter your choice (1/2): \")\n",
    "\n",
    "        if action == \"1\":\n",
    "            print(\"The creature is friendly and helps you find your way out of the forest. You win!\")\n",
    "            break\n",
    "        elif action == \"2\":\n",
    "            print(\"You run away, but you get lost in the forest. Game over.\")\n",
    "            break\n",
    "        else:\n",
    "            print(\"Invalid choice. Try again.\")\n",
    "    elif choice == \"2\":\n",
    "        print(\"You leave the forest. The adventure ends.\")\n",
    "        break\n",
    "    else:\n",
    "        print(\"Invalid choice. Try again.\")\n"
   ]
  },
  {
   "cell_type": "code",
   "execution_count": 32,
   "id": "325cd742-a48e-4b8a-a5ec-47f7bf17483a",
   "metadata": {},
   "outputs": [
    {
     "name": "stdin",
     "output_type": "stream",
     "text": [
      "Enter coefficient a:  5\n",
      "Enter coefficient b:  1\n"
     ]
    },
    {
     "name": "stdout",
     "output_type": "stream",
     "text": [
      "The solution is x = -0.2.\n"
     ]
    }
   ],
   "source": [
    "#25\n",
    "# Input coefficients of the linear equation: ax + b = 0\n",
    "a = float(input(\"Enter coefficient a: \"))\n",
    "b = float(input(\"Enter coefficient b: \"))\n",
    "\n",
    "if a == 0:\n",
    "    if b == 0:\n",
    "        print(\"Infinite solutions (any x value).\")\n",
    "    else:\n",
    "        print(\"No solution (contradiction).\")\n",
    "else:\n",
    "    x = -b / a\n",
    "    print(f\"The solution is x = {x}.\")\n"
   ]
  },
  {
   "cell_type": "code",
   "execution_count": 34,
   "id": "01e2b9fd-4526-4408-8064-7f3545f51899",
   "metadata": {},
   "outputs": [],
   "source": [
    "#26\n",
    "#not done"
   ]
  },
  {
   "cell_type": "code",
   "execution_count": 35,
   "id": "e53ea556-cce9-41ec-aab0-cffead5ac33d",
   "metadata": {},
   "outputs": [
    {
     "name": "stdin",
     "output_type": "stream",
     "text": [
      "Enter a year:  2017\n"
     ]
    },
    {
     "name": "stdout",
     "output_type": "stream",
     "text": [
      "2017 is a prime year.\n"
     ]
    }
   ],
   "source": [
    "#27\n",
    "year = int(input(\"Enter a year: \"))\n",
    "\n",
    "if year > 1:\n",
    "    for i in range(2, year):\n",
    "        if (year % i) == 0:\n",
    "            print(f\"{year} is not a prime year.\")\n",
    "            break\n",
    "    else:\n",
    "        print(f\"{year} is a prime year.\")\n",
    "else:\n",
    "    print(f\"{year} is not a prime year.\")\n"
   ]
  },
  {
   "cell_type": "code",
   "execution_count": 36,
   "id": "35c0e2a5-ee88-40ab-ab5e-c6f38ccdb785",
   "metadata": {},
   "outputs": [
    {
     "name": "stdin",
     "output_type": "stream",
     "text": [
      "Enter the first number:  4\n",
      "Enter the second number:  3\n",
      "Enter the third number:  9\n"
     ]
    },
    {
     "name": "stdout",
     "output_type": "stream",
     "text": [
      "The numbers in ascending order are: 3.0, 4.0, 9.0\n"
     ]
    }
   ],
   "source": [
    "#28\n",
    "num1 = float(input(\"Enter the first number: \"))\n",
    "num2 = float(input(\"Enter the second number: \"))\n",
    "num3 = float(input(\"Enter the third number: \"))\n",
    "\n",
    "smallest = num1\n",
    "middle = num2\n",
    "largest = num3\n",
    "\n",
    "if num2 < smallest:\n",
    "    smallest = num2\n",
    "    middle = num1\n",
    "\n",
    "if num3 < smallest:\n",
    "    smallest = num3\n",
    "    middle = num1\n",
    "    largest = num2\n",
    "\n",
    "if num3 < middle:\n",
    "    middle = num3\n",
    "    largest = num2\n",
    "\n",
    "print(f\"The numbers in ascending order are: {smallest}, {middle}, {largest}\")\n"
   ]
  },
  {
   "cell_type": "code",
   "execution_count": 37,
   "id": "5bca6f90-9844-4089-97ec-414073b7b090",
   "metadata": {},
   "outputs": [],
   "source": [
    "#29\n",
    "#not done"
   ]
  },
  {
   "cell_type": "code",
   "execution_count": 38,
   "id": "ba9b76e3-e601-4506-8f42-377176ce5b2e",
   "metadata": {},
   "outputs": [
    {
     "name": "stdin",
     "output_type": "stream",
     "text": [
      "Enter your weight in kilograms:  100\n",
      "Enter your height in meters:  1.93\n"
     ]
    },
    {
     "name": "stdout",
     "output_type": "stream",
     "text": [
      "Your BMI is 26.85, which falls into the category of Overweight.\n",
      "You may need to manage your weight. Consider a balanced diet and exercise.\n"
     ]
    }
   ],
   "source": [
    "#30\n",
    "# Input weight in kilograms and height in meters\n",
    "weight = float(input(\"Enter your weight in kilograms: \"))\n",
    "height = float(input(\"Enter your height in meters: \"))\n",
    "\n",
    "bmi = weight / (height ** 2)\n",
    "\n",
    "if bmi < 18.5:\n",
    "    category = \"Underweight\"\n",
    "    recommendation = \"You may need to gain weight. Consult a doctor or nutritionist.\"\n",
    "elif 18.5 <= bmi < 24.9:\n",
    "    category = \"Normal Weight\"\n",
    "    recommendation = \"Your weight is within the healthy range. Keep up the good work!\"\n",
    "elif 24.9 <= bmi < 29.9:\n",
    "    category = \"Overweight\"\n",
    "    recommendation = \"You may need to manage your weight. Consider a balanced diet and exercise.\"\n",
    "else:\n",
    "    category = \"Obese\"\n",
    "    recommendation = \"Consult a healthcare professional for weight management.\"\n",
    "\n",
    "print(f\"Your BMI is {bmi:.2f}, which falls into the category of {category}.\")\n",
    "print(recommendation)\n"
   ]
  },
  {
   "cell_type": "code",
   "execution_count": 39,
   "id": "2ce5962d-a67d-4f53-a528-ae106cce0780",
   "metadata": {},
   "outputs": [],
   "source": [
    "#Challenge level"
   ]
  },
  {
   "cell_type": "code",
   "execution_count": 43,
   "id": "e8e893f4-f276-4ef1-84aa-378c39fe581d",
   "metadata": {},
   "outputs": [
    {
     "name": "stdin",
     "output_type": "stream",
     "text": [
      "Enter a password:  shihikkm&12399S\n"
     ]
    },
    {
     "name": "stdout",
     "output_type": "stream",
     "text": [
      "Password is valid.\n"
     ]
    }
   ],
   "source": [
    "#31\n",
    "import re\n",
    "\n",
    "password = input(\"Enter a password: \")\n",
    "\n",
    "pattern = r\"^(?=.*[A-Z])(?=.*[a-z])(?=.*\\d)(?=.*[@#$%^&+=])[\\w@#$%^&+=]{8,}$\"\n",
    "\n",
    "if re.match(pattern, password):\n",
    "    print(\"Password is valid.\")\n",
    "else:\n",
    "    print(\"Password does not meet complexity requirements.\")\n"
   ]
  },
  {
   "cell_type": "code",
   "execution_count": 45,
   "id": "d393ceca-85b8-4e5d-a847-5f49f71441c9",
   "metadata": {},
   "outputs": [
    {
     "name": "stdin",
     "output_type": "stream",
     "text": [
      "Enter the number of rows:  2\n",
      "Enter the number of columns:  2\n"
     ]
    },
    {
     "name": "stdout",
     "output_type": "stream",
     "text": [
      "Enter elements of the first matrix:\n"
     ]
    },
    {
     "name": "stdin",
     "output_type": "stream",
     "text": [
      " 1 6\n",
      " 8 7\n"
     ]
    },
    {
     "name": "stdout",
     "output_type": "stream",
     "text": [
      "Enter elements of the second matrix:\n"
     ]
    },
    {
     "name": "stdin",
     "output_type": "stream",
     "text": [
      " 9 1\n",
      " 7 4\n"
     ]
    },
    {
     "name": "stdout",
     "output_type": "stream",
     "text": [
      "Matrix Addition:\n",
      "10.0 7.0\n",
      "15.0 11.0\n",
      "Matrix Subtraction:\n",
      "-8.0 5.0\n",
      "1.0 3.0\n"
     ]
    }
   ],
   "source": [
    "#32\n",
    "rows = int(input(\"Enter the number of rows: \"))\n",
    "cols = int(input(\"Enter the number of columns: \"))\n",
    "\n",
    "matrix1 = []\n",
    "matrix2 = []\n",
    "\n",
    "print(\"Enter elements of the first matrix:\")\n",
    "for i in range(rows):\n",
    "    row = [float(x) for x in input().split()]\n",
    "    matrix1.append(row)\n",
    "\n",
    "print(\"Enter elements of the second matrix:\")\n",
    "for i in range(rows):\n",
    "    row = [float(x) for x in input().split()]\n",
    "    matrix2.append(row)\n",
    "\n",
    "result_addition = [[matrix1[i][j] + matrix2[i][j] for j in range(cols)] for i in range(rows)]\n",
    "\n",
    "result_subtraction = [[matrix1[i][j] - matrix2[i][j] for j in range(cols)] for i in range(rows)]\n",
    "\n",
    "print(\"Matrix Addition:\")\n",
    "for row in result_addition:\n",
    "    print(' '.join(map(str, row)))\n",
    "\n",
    "print(\"Matrix Subtraction:\")\n",
    "for row in result_subtraction:\n",
    "    print(' '.join(map(str, row)))\n"
   ]
  },
  {
   "cell_type": "code",
   "execution_count": 46,
   "id": "589059e8-98c7-487f-ac57-ece103ff495e",
   "metadata": {},
   "outputs": [
    {
     "name": "stdin",
     "output_type": "stream",
     "text": [
      "Enter the first number:  4\n",
      "Enter the second number:  8\n"
     ]
    },
    {
     "name": "stdout",
     "output_type": "stream",
     "text": [
      "The GCD of 4 and 8 is 4.\n"
     ]
    }
   ],
   "source": [
    "#33\n",
    "def gcd(a, b):\n",
    "    while b:\n",
    "        a, b = b, a % b\n",
    "    return a\n",
    "\n",
    "num1 = int(input(\"Enter the first number: \"))\n",
    "num2 = int(input(\"Enter the second number: \"))\n",
    "\n",
    "result = gcd(num1, num2)\n",
    "print(f\"The GCD of {num1} and {num2} is {result}.\")\n"
   ]
  },
  {
   "cell_type": "code",
   "execution_count": 47,
   "id": "3a761225-3718-46b5-9ae0-bd437f3fb41d",
   "metadata": {},
   "outputs": [
    {
     "name": "stdin",
     "output_type": "stream",
     "text": [
      "Enter the number of rows for matrix 1:  2\n",
      "Enter the number of columns for matrix 1:  2\n",
      "Enter the number of rows for matrix 2:  2\n",
      "Enter the number of columns for matrix 2:  2\n"
     ]
    },
    {
     "name": "stdout",
     "output_type": "stream",
     "text": [
      "Enter elements of matrix 1:\n"
     ]
    },
    {
     "name": "stdin",
     "output_type": "stream",
     "text": [
      " 1 8\n",
      " 2 7\n"
     ]
    },
    {
     "name": "stdout",
     "output_type": "stream",
     "text": [
      "Enter elements of matrix 2:\n"
     ]
    },
    {
     "name": "stdin",
     "output_type": "stream",
     "text": [
      " 3 6\n",
      " 4 5\n"
     ]
    },
    {
     "name": "stdout",
     "output_type": "stream",
     "text": [
      "Matrix Multiplication Result:\n",
      "35.0 46.0\n",
      "34.0 47.0\n"
     ]
    }
   ],
   "source": [
    "#34\n",
    "rows1 = int(input(\"Enter the number of rows for matrix 1: \"))\n",
    "cols1 = int(input(\"Enter the number of columns for matrix 1: \"))\n",
    "rows2 = int(input(\"Enter the number of rows for matrix 2: \"))\n",
    "cols2 = int(input(\"Enter the number of columns for matrix 2: \"))\n",
    "\n",
    "if cols1 != rows2:\n",
    "    print(\"Matrix multiplication not possible. Number of columns in matrix 1 must equal the number of rows in matrix 2.\")\n",
    "else:\n",
    "    matrix1 = []\n",
    "    matrix2 = []\n",
    "\n",
    "    print(\"Enter elements of matrix 1:\")\n",
    "    for i in range(rows1):\n",
    "        row = [float(x) for x in input().split()]\n",
    "        matrix1.append(row)\n",
    "\n",
    "    print(\"Enter elements of matrix 2:\")\n",
    "    for i in range(rows2):\n",
    "        row = [float(x) for x in input().split()]\n",
    "        matrix2.append(row)\n",
    "\n",
    "    result = [[0 for _ in range(cols2)] for _ in range(rows1)]\n",
    "\n",
    "    for i in range(rows1):\n",
    "        for j in range(cols2):\n",
    "            for k in range(cols1):\n",
    "                result[i][j] += matrix1[i][k] * matrix2[k][j]\n",
    "\n",
    "    print(\"Matrix Multiplication Result:\")\n",
    "    for row in result:\n",
    "        print(' '.join(map(str, row)))\n"
   ]
  },
  {
   "cell_type": "code",
   "execution_count": 49,
   "id": "c4f831ae-c5a1-4bf7-aab6-395d94bd1b12",
   "metadata": {},
   "outputs": [
    {
     "name": "stdout",
     "output_type": "stream",
     "text": [
      "  |   |  \n",
      "---------\n",
      "  |   |  \n",
      "---------\n",
      "  |   |  \n"
     ]
    },
    {
     "name": "stdin",
     "output_type": "stream",
     "text": [
      "Enter your move (1-9):  3\n"
     ]
    },
    {
     "name": "stdout",
     "output_type": "stream",
     "text": [
      "  |   | X\n",
      "---------\n",
      "  |   |  \n",
      "---------\n",
      "  |   |  \n",
      "Computer chose position 5\n",
      "  |   | X\n",
      "---------\n",
      "  | O |  \n",
      "---------\n",
      "  |   |  \n"
     ]
    },
    {
     "name": "stdin",
     "output_type": "stream",
     "text": [
      "Enter your move (1-9):  1\n"
     ]
    },
    {
     "name": "stdout",
     "output_type": "stream",
     "text": [
      "X |   | X\n",
      "---------\n",
      "  | O |  \n",
      "---------\n",
      "  |   |  \n",
      "Computer chose position 4\n",
      "X |   | X\n",
      "---------\n",
      "O | O |  \n",
      "---------\n",
      "  |   |  \n"
     ]
    },
    {
     "name": "stdin",
     "output_type": "stream",
     "text": [
      "Enter your move (1-9):  2\n"
     ]
    },
    {
     "name": "stdout",
     "output_type": "stream",
     "text": [
      "X | X | X\n",
      "---------\n",
      "O | O |  \n",
      "---------\n",
      "  |   |  \n",
      "X wins!\n"
     ]
    }
   ],
   "source": [
    "#35\n",
    "import random\n",
    "\n",
    "board = [' ' for _ in range(9)]\n",
    "\n",
    "def display_board():\n",
    "    for i in range(0, 9, 3):\n",
    "        print(f'{board[i]} | {board[i+1]} | {board[i+2]}')\n",
    "        if i < 6:\n",
    "            print('-'*9)\n",
    "\n",
    "def check_win(player):\n",
    "    winning_combinations = [(0, 1, 2), (3, 4, 5), (6, 7, 8), (0, 3, 6), (1, 4, 7), (2, 5, 8), (0, 4, 8), (2, 4, 6)]\n",
    "    for combo in winning_combinations:\n",
    "        if board[combo[0]] == board[combo[1]] == board[combo[2]] == player:\n",
    "            return True\n",
    "    return False\n",
    "\n",
    "def computer_move():\n",
    "    empty_cells = [i for i, cell in enumerate(board) if cell == ' ']\n",
    "    return random.choice(empty_cells)\n",
    "\n",
    "current_player = 'X'\n",
    "while ' ' in board:\n",
    "    display_board()\n",
    "    if current_player == 'X':\n",
    "        player_move = int(input(\"Enter your move (1-9): \")) - 1\n",
    "        if player_move < 0 or player_move > 8 or board[player_move] != ' ':\n",
    "            print(\"Invalid move. Try again.\")\n",
    "            continue\n",
    "        board[player_move] = current_player\n",
    "    else:\n",
    "        computer_move_index = computer_move()\n",
    "        board[computer_move_index] = current_player\n",
    "        print(f\"Computer chose position {computer_move_index + 1}\")\n",
    "    \n",
    "    if check_win(current_player):\n",
    "        display_board()\n",
    "        print(f'{current_player} wins!')\n",
    "        break\n",
    "\n",
    "    if current_player == 'X':\n",
    "        current_player = 'O'\n",
    "    else:\n",
    "        current_player = 'X'\n",
    "else:\n",
    "    display_board()\n",
    "    print(\"It's a tie!\")\n"
   ]
  },
  {
   "cell_type": "code",
   "execution_count": 50,
   "id": "77c5d5e9-11fe-498b-82de-366005a04735",
   "metadata": {},
   "outputs": [
    {
     "name": "stdin",
     "output_type": "stream",
     "text": [
      "Enter the number of terms:  5\n"
     ]
    },
    {
     "name": "stdout",
     "output_type": "stream",
     "text": [
      "Fibonacci Sequence:\n",
      "[0, 1, 1, 2, 3]\n"
     ]
    }
   ],
   "source": [
    "#36\n",
    "n = int(input(\"Enter the number of terms: \"))\n",
    "\n",
    "fibonacci_sequence = [0, 1]\n",
    "\n",
    "while len(fibonacci_sequence) < n:\n",
    "    next_term = fibonacci_sequence[-1] + fibonacci_sequence[-2]\n",
    "    fibonacci_sequence.append(next_term)\n",
    "\n",
    "print(\"Fibonacci Sequence:\")\n",
    "print(fibonacci_sequence)\n"
   ]
  },
  {
   "cell_type": "code",
   "execution_count": 51,
   "id": "b50b8136-d67e-4756-9f25-1a6d2e749966",
   "metadata": {},
   "outputs": [
    {
     "name": "stdin",
     "output_type": "stream",
     "text": [
      "Enter the term number:  6\n"
     ]
    },
    {
     "name": "stdout",
     "output_type": "stream",
     "text": [
      "The 6th Fibonacci term is 8.\n"
     ]
    }
   ],
   "source": [
    "#37\n",
    "def fibonacci(n, memo={}):\n",
    "    if n in memo:\n",
    "        return memo[n]\n",
    "    if n <= 1:\n",
    "        return n\n",
    "    result = fibonacci(n - 1, memo) + fibonacci(n - 2, memo)\n",
    "    memo[n] = result\n",
    "    return result\n",
    "\n",
    "n = int(input(\"Enter the term number: \"))\n",
    "\n",
    "result = fibonacci(n)\n",
    "print(f\"The {n}th Fibonacci term is {result}.\")\n"
   ]
  },
  {
   "cell_type": "code",
   "execution_count": 52,
   "id": "3eb07338-07cc-4cf8-a6ae-98d07b895bdd",
   "metadata": {},
   "outputs": [
    {
     "name": "stdin",
     "output_type": "stream",
     "text": [
      "Enter the year (e.g., 2023):  2023\n",
      "Enter the month (1-12):  9\n"
     ]
    },
    {
     "name": "stdout",
     "output_type": "stream",
     "text": [
      "Calendar for September 2023:\n",
      "\n",
      "   September 2023\n",
      "Mo Tu We Th Fr Sa Su\n",
      "             1  2  3\n",
      " 4  5  6  7  8  9 10\n",
      "11 12 13 14 15 16 17\n",
      "18 19 20 21 22 23 24\n",
      "25 26 27 28 29 30\n",
      "\n"
     ]
    }
   ],
   "source": [
    "#38\n",
    "import calendar\n",
    "\n",
    "year = int(input(\"Enter the year (e.g., 2023): \"))\n",
    "month = int(input(\"Enter the month (1-12): \"))\n",
    "\n",
    "cal = calendar.month(year, month)\n",
    "print(f\"Calendar for {calendar.month_name[month]} {year}:\\n\")\n",
    "print(cal)\n"
   ]
  },
  {
   "cell_type": "code",
   "execution_count": 53,
   "id": "d1f6ce86-1b21-47a5-8587-fdf48f0118fd",
   "metadata": {},
   "outputs": [],
   "source": [
    "#39\n",
    "#not done"
   ]
  },
  {
   "cell_type": "code",
   "execution_count": 1,
   "id": "be9c8928-a323-4580-9c03-498da54d10a9",
   "metadata": {},
   "outputs": [
    {
     "name": "stdin",
     "output_type": "stream",
     "text": [
      "Enter a number:  64\n"
     ]
    },
    {
     "name": "stdout",
     "output_type": "stream",
     "text": [
      "Prime factors of 64: [2, 2, 2, 2, 2, 2]\n"
     ]
    }
   ],
   "source": [
    "#40\n",
    "def prime_factors(n):\n",
    "    factors = []\n",
    "    i = 2\n",
    "    while i * i <= n:\n",
    "        if n % i:\n",
    "            i += 1\n",
    "        else:\n",
    "            n //= i\n",
    "            factors.append(i)\n",
    "    if n > 1:\n",
    "        factors.append(n)\n",
    "    return factors\n",
    "\n",
    "num = int(input(\"Enter a number: \"))\n",
    "\n",
    "factors = prime_factors(num)\n",
    "print(f\"Prime factors of {num}: {factors}\")\n"
   ]
  },
  {
   "cell_type": "code",
   "execution_count": null,
   "id": "d41c2e56-017a-4b04-b4ce-2ededa938267",
   "metadata": {},
   "outputs": [],
   "source": []
  }
 ],
 "metadata": {
  "kernelspec": {
   "display_name": "Python 3 (ipykernel)",
   "language": "python",
   "name": "python3"
  },
  "language_info": {
   "codemirror_mode": {
    "name": "ipython",
    "version": 3
   },
   "file_extension": ".py",
   "mimetype": "text/x-python",
   "name": "python",
   "nbconvert_exporter": "python",
   "pygments_lexer": "ipython3",
   "version": "3.10.8"
  }
 },
 "nbformat": 4,
 "nbformat_minor": 5
}
